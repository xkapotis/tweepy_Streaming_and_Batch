{
 "cells": [
  {
   "cell_type": "markdown",
   "metadata": {},
   "source": [
    "# Sentiment Analysis Tweeter in Streaming"
   ]
  },
  {
   "cell_type": "code",
   "execution_count": 4,
   "metadata": {},
   "outputs": [],
   "source": [
    "import tweepy\n",
    "#override tweepy.StreamListener to add logic to on_status\n",
    "class MyStreamListener(tweepy.StreamListener):\n",
    "\n",
    "    def on_status(self, status):\n",
    "        print(status.text)"
   ]
  },
  {
   "cell_type": "code",
   "execution_count": 5,
   "metadata": {},
   "outputs": [],
   "source": [
    "# Twitter Api Credentials\n",
    "consumerKey = \"\"\n",
    "consumerSecret = \"\"\n",
    "accessToken = \"\"\n",
    "accessTokenSecret = \"\""
   ]
  },
  {
   "cell_type": "code",
   "execution_count": 6,
   "metadata": {},
   "outputs": [],
   "source": [
    "# Create the authentication object\n",
    "authenticate = tweepy.OAuthHandler(consumerKey, consumerSecret) \n",
    "    \n",
    "# Set the access token and access token secret\n",
    "authenticate.set_access_token(accessToken, accessTokenSecret) \n",
    "    \n",
    "# Creating the API object while passing in auth information\n",
    "api = tweepy.API(authenticate, wait_on_rate_limit = True)"
   ]
  },
  {
   "cell_type": "code",
   "execution_count": 7,
   "metadata": {},
   "outputs": [],
   "source": [
    "myStreamListener = MyStreamListener()\n",
    "myStream = tweepy.Stream(auth = api.auth, listener=myStreamListener)"
   ]
  },
  {
   "cell_type": "code",
   "execution_count": 8,
   "metadata": {},
   "outputs": [
    {
     "name": "stdout",
     "output_type": "stream",
     "text": [
      "@OliverJee_ @MorganDaviesCCS @TinaLewWho2 @JoeBiden Show me proof you have don't have any your the brainwashed ones https://t.co/hBDtE8EFkF\n",
      "🇲🇻🇺🇸\n",
      "“I promiss you, as President, islam is gonna be treated like it should be like every other major confessional… https://t.co/UsGN8H0FZn\n",
      "@alvillamo @JoeBiden Pues ojalá.\n",
      "Bizarro world. @CNNPolitics now reporting @JoeBiden with 253 and @realDonaldTrump with 213, and Arizona wide open. https://t.co/HQinfF3rm2\n",
      "RT @Saurabh_MLAgk: .@JoeBiden Advance Congratulations\n",
      "\n",
      "Modi is not India\n",
      "\n",
      "We as India despise Politics of Hate. https://t.co/ZppJEB1Z2o\n",
      "RT @days_mainit: What do you think the outcome of \n",
      "the US presidential election will be?\n",
      "@realDonaldTrump or @JoeBiden \n",
      "\n",
      "#USElectionResults…\n",
      "RT @ProudSocialist: The neolibs fear-mongered all primary long about how Bernie would cost Democrats the Senate and seats in the House. @Jo…\n",
      "RT @MAGACHRISTIAN2: We were never gonna see it anyway. #VoteBidenHarrisToSaveAmerica\n",
      "@a_riot @JoeBiden Hahaaaa Jaenal Abiden, Mas 😂🤣\n",
      "Guess who 🤔 🤭  @JoeBiden @realDonaldTrump @WhiteHouse @BarackObama https://t.co/aKhqixVzzd\n",
      "RT @mando7899: @JoeBiden This is why he’s winning https://t.co/XvMqnLF7XJ\n",
      "@ArcherKersha @folkIorebplnk @JoeBiden 0 war? ok\n",
      "but how about not giving people equality, doesn't give af ab woman… https://t.co/nNon1vP3fC\n",
      "RT @mouvement33: A @JoeBiden win means no more Barr. No more Pompeo. No Mnuchin. No Meadows. No Stephen Miller. No McEnany. No Wolf. No DeJ…\n",
      "@yashdhanve222 @JoeBiden माझ्या मते बायडन जिंकावेत...\n",
      "पर्यावरणासाठी ,\n",
      "विज्ञानासाठी,\n",
      "जगभरात शांततेसाठी !\n",
      "@morethanacentr1 @JamesSowka @giodello @rolandsmartin @briebriejoy @JoeBiden @BernieSanders How did Biden’s “blue w… https://t.co/frtVnIBdN6\n",
      "@suckmytatass @JoeBiden my fav hobby\n",
      "RT @LaneZane1: Good to hear!\n",
      "@campbellclaret @JoeBiden @CNN are the best!\n",
      "@KamalaHarris @JoeBiden Trump is dividing the States, and causing riots, You have to stop him, before People gets k… https://t.co/or17XBOoZK\n",
      "@joncoopertweets @JoeBiden I’m a proud Fulton County voter for Biden/Harris, Ossoff And Warmock. Worked hard for al… https://t.co/ONrpwjOkAP\n",
      "RT @RaheemKassam: @JoeBiden You’re a lyin dog faced ballot fraudster.\n",
      "@NoahKamara99 @JankoTietz @gutmenschen_inc @JoeBiden Nein, recherchieren musst du selber. Neue Parteien werden infi… https://t.co/sbS35BSOn6\n",
      "RT @joncoopertweets: As of now, @JoeBiden is only about 22,000 votes short of Trump in Georgia. At this rate, Biden is expected to win the…\n",
      "@SkyNewsAust @JoeBiden @realDonaldTrump You actually pay her to come up with this?\n",
      "Va demanda federal por fraude. @realDonaldTrump @JoeBiden\n",
      "@FBI @JoeBiden @DrBiden @KamalaHarris\n",
      "RT @joncoopertweets: As of now, @JoeBiden is only about 22,000 votes short of Trump in Georgia. At this rate, Biden is expected to win the…\n",
      "@SkyNewsAust @JoeBiden So “utterly alarming” that Joe’s about to be POTUS 😂\n",
      "RT @arsched: The era of popular politics comes to an end with victory of @JoeBiden over @realDonaldTrump \n",
      "Let’s hope the world returns to s…\n",
      "RT @someknew: @JoeBiden ♥️ https://t.co/NhBKkUGYvJ\n",
      "RT @joncoopertweets: As of now, @JoeBiden is only about 22,000 votes short of Trump in Georgia. At this rate, Biden is expected to win the…\n",
      "@antolac Why @JoeBiden won?\n",
      "\n",
      "https://t.co/nSLZPMvdoK\n",
      "RT @ddwiese: \"We have put together, I think, the most extensive and inclusive voter fraud organization in the history of American politics.…\n",
      "RT @sanl: @itvpeston @Peston @Scaramucci @JoeBiden @realDonaldTrump I get confused when I watch @Scaramucci , not because I don't understan…\n",
      "@steel8883 @JoeBiden the difference is that trump has a wig and biden has real hair\n",
      "@ChrisJZullo @JoeBiden No they did not, they and the president pointed out a double standard why in many states the… https://t.co/IFMOGg177s\n",
      "This guy is Ridin with Biden https://t.co/U7YktQ5Wss\n",
      "RT @realginnyrobins: .@JoeBiden couldn’t pull 6 people to his “rallies.”\n",
      "\n",
      "You can’t convince me he got the highest popular vote of anyone w…\n",
      "RT @campbellclaret: Morning all. Musings on why President ⁦@JoeBiden⁩ is happening https://t.co/I6jBzz9yrZ\n",
      "RT @joncoopertweets: As of now, @JoeBiden is only about 22,000 votes short of Trump in Georgia. At this rate, Biden is expected to win the…\n",
      "@saimelin @TelemundoNews @JoeBiden @trump2020 LMFAOOOOOOOOOOOOOOOOOOOOOO https://t.co/wPEv7mvcEA\n",
      "courage @JoeBiden, you're almost there\n",
      "@JoeBiden Hello Mr Putin! I know that you’re Putin. You can stop hide that. I wanna say that USA is a free country… https://t.co/ebHalm8mt0\n",
      "RT @ThePubliusUSA: This is a USPS mail room in Miami-Dade. It is alleged mail-in ballots have been there for over a week. That would explai…\n",
      "RT @e_navv: Yeh banda apni m he chalta h yrr\n",
      "RT @FalialaKiza: La première action du nouveau Président des USA Mr @JoeBiden sera de remplacer l'ambassadeur des USA en RDC Mr MIKE HAMMER…\n",
      "@MiamiHerald @nytmike @DMRegister @BostonGlobe @latimes @SenateDems @Comey @JohnBerman @DavidJollyFL @NPR @CNN… https://t.co/8ZWQXvLz7W\n",
      "RT @joncoopertweets: As of now, @JoeBiden is only about 22,000 votes short of Trump in Georgia. At this rate, Biden is expected to win the…\n",
      "@OliverJee_ @MorganDaviesCCS @TinaLewWho2 @JoeBiden https://t.co/a9UMgZCztL\n",
      "Walking around London last night hearing @JoeBiden's name added to winning football cheers was truly a sound for so… https://t.co/FxwCZxIcrT\n",
      "RT @SebGorka: President @realDonaldTrump was winning in key battleground states. \n",
      "\n",
      "Then @TheDemocrats decided to stop counting. \n",
      "\n",
      "Now they…\n"
     ]
    }
   ],
   "source": [
    "myStream.filter(track=['@JoeBiden'], is_async=True)"
   ]
  },
  {
   "cell_type": "code",
   "execution_count": null,
   "metadata": {},
   "outputs": [],
   "source": []
  }
 ],
 "metadata": {
  "kernelspec": {
   "display_name": "Python 3",
   "language": "python",
   "name": "python3"
  },
  "language_info": {
   "codemirror_mode": {
    "name": "ipython",
    "version": 3
   },
   "file_extension": ".py",
   "mimetype": "text/x-python",
   "name": "python",
   "nbconvert_exporter": "python",
   "pygments_lexer": "ipython3",
   "version": "3.7.4"
  }
 },
 "nbformat": 4,
 "nbformat_minor": 2
}
